{
 "cells": [
  {
   "cell_type": "markdown",
   "metadata": {},
   "source": [
    "# Analyzing the encodings produced by a network\n",
    "\n",
    "Analyses based on distance to the reference object and also the order in which the objects collided."
   ]
  },
  {
   "cell_type": "code",
   "execution_count": 29,
   "metadata": {
    "collapsed": true
   },
   "outputs": [],
   "source": [
    "from collections import defaultdict\n",
    "\n",
    "import h5py\n",
    "import matplotlib.pyplot as plt\n",
    "import numpy as np\n",
    "import os\n",
    "from sklearn.linear_model import LinearRegression\n",
    "\n",
    "from loader import DSET_SFXES"
   ]
  },
  {
   "cell_type": "code",
   "execution_count": 7,
   "metadata": {
    "collapsed": true
   },
   "outputs": [],
   "source": [
    "%matplotlib inline"
   ]
  },
  {
   "cell_type": "code",
   "execution_count": 8,
   "metadata": {
    "collapsed": true
   },
   "outputs": [],
   "source": [
    "dset_names = ['test', 'obj3', 'obj9']\n",
    "num_obj = {'test': 6, 'obj3': 3, 'obj9': 9}\n",
    "log_base = '/om/user/dzd123/logs/498/'"
   ]
  },
  {
   "cell_type": "code",
   "execution_count": 9,
   "metadata": {},
   "outputs": [],
   "source": [
    "encs_and_ys = {}\n",
    "for dset_name in dset_names:\n",
    "    f = np.load(os.path.join(log_base, 'enc_' + dset_name + '_save.npz'))\n",
    "    encs_and_ys[dset_name] = {'enc': f['enc'], 'y': f['y']}"
   ]
  },
  {
   "cell_type": "code",
   "execution_count": 10,
   "metadata": {
    "collapsed": true
   },
   "outputs": [],
   "source": [
    "def to_log_ratios(y):\n",
    "    y = np.log(y)\n",
    "    y -= y[:,0:1]\n",
    "    return y"
   ]
  },
  {
   "cell_type": "code",
   "execution_count": 11,
   "metadata": {
    "collapsed": true
   },
   "outputs": [],
   "source": [
    "num_points = 0\n",
    "test_points = 5000\n",
    "data_file = '/om/user/dzd123/physics_b.h5'\n",
    "f = h5py.File(data_file, 'r')\n",
    "y_true = {}\n",
    "col = {}\n",
    "for dset_name in dset_names:\n",
    "    y_true[dset_name] = to_log_ratios(f['y'+DSET_SFXES[dset_name]][-test_points:])\n",
    "    col[dset_name] = f['col'+DSET_SFXES[dset_name]][-test_points:]"
   ]
  },
  {
   "cell_type": "code",
   "execution_count": 12,
   "metadata": {
    "collapsed": true
   },
   "outputs": [],
   "source": [
    "for dset in dset_names:\n",
    "    # Check to make sure we're dealing with correct portion of test set\n",
    "    assert (y_true[dset] == encs_and_ys[dset]['y']).all()\n",
    "    # Check to make sure only two objects are marked as colliding per frame\n",
    "    assert not np.any(np.sum(col[dset][:,:,:], axis=2) > 2)"
   ]
  },
  {
   "cell_type": "code",
   "execution_count": 13,
   "metadata": {
    "collapsed": true
   },
   "outputs": [],
   "source": [
    "# Get a list of tuples representing the ordering of collisions for a given sample of col\n",
    "def get_collisions(col_sample):\n",
    "    collisions = []\n",
    "    for row in col_sample:\n",
    "        c = tuple(np.where(row)[0])\n",
    "        if len(c) > 0:\n",
    "            collisions.append(c)\n",
    "    return collisions\n",
    "def get_first_ref_col(col_sample):\n",
    "    collisions = []\n",
    "    i = 0\n",
    "    for row in col_sample:\n",
    "        c = tuple(np.where(row)[0])\n",
    "        if len(c) > 0:\n",
    "            if 0 in c:\n",
    "                return i\n",
    "            i += 1\n",
    "    raise RuntimeError('No collisions with reference object found!')\n",
    "collisions = {}\n",
    "first_ref_col = {}\n",
    "for dset in dset_names:\n",
    "    collisions[dset] = [get_collisions(x) for x in col[dset]]\n",
    "    first_ref_col[dset] = [get_first_ref_col(x) for x in col[dset]]"
   ]
  },
  {
   "cell_type": "markdown",
   "metadata": {},
   "source": [
    "## Dependence of R^2 based on when first reference collision occurs"
   ]
  },
  {
   "cell_type": "code",
   "execution_count": 14,
   "metadata": {
    "collapsed": true
   },
   "outputs": [],
   "source": [
    "def filter_r2(encs_and_ys, filter_idx):\n",
    "    for dset in dset_names:\n",
    "        y_true = encs_and_ys[dset]['y'][filter_idx[dset],:]\n",
    "        enc = encs_and_ys[dset]['enc'][filter_idx[dset],:,:]\n",
    "        r2s = []\n",
    "        for obj_ind in range(y_true.shape[1]):\n",
    "            X = enc[:,obj_ind,:]\n",
    "            y = y_true[:,obj_ind]\n",
    "            model = LinearRegression()\n",
    "            model.fit(X, y)\n",
    "            r2s.append( model.score(X, y) )\n",
    "        print(\"R^2 {}: {}\".format(dset, r2s))"
   ]
  },
  {
   "cell_type": "code",
   "execution_count": 15,
   "metadata": {},
   "outputs": [
    {
     "name": "stdout",
     "output_type": "stream",
     "text": [
      "Ref first % for test: 0.3412\n",
      "Ref first % for obj3: 0.6672\n",
      "Ref first % for obj9: 0.2602\n",
      "\n",
      "Ref late % for test: 0.1826\n",
      "Ref late % for obj3: 0.3328\n",
      "Ref late % for obj9: 0.1286\n"
     ]
    }
   ],
   "source": [
    "ref_first_idx = {dset: np.array([i for i in range(len(val)) if val[i] == 0]) for dset, val in first_ref_col.items()}\n",
    "ref_late_idx = {dset: np.array([i for i in range(len(val)) if val[i] >= num_obj[dset] - 2]) for dset, val in first_ref_col.items()}\n",
    "for dset in dset_names:\n",
    "    print(\"Ref first % for {}: {}\".format(dset, float(len(ref_first_idx[dset])) / len(col[dset])))\n",
    "print(\"\")\n",
    "for dset in dset_names:\n",
    "    print(\"Ref late % for {}: {}\".format(dset, float(len(ref_late_idx[dset])) / len(col[dset])))"
   ]
  },
  {
   "cell_type": "code",
   "execution_count": 16,
   "metadata": {},
   "outputs": [
    {
     "name": "stdout",
     "output_type": "stream",
     "text": [
      "Overall statistics\n",
      "R^2 test: [1.0, 0.87563419312060575, 0.88034370880656954, 0.87438989153189128, 0.86979767123850638, 0.8735372506228527]\n",
      "R^2 obj3: [1.0, 0.93974930451070937, 0.9282318014867379]\n",
      "R^2 obj9: [1.0, 0.75382482774689152, 0.76082118574014601, 0.74972034986846947, 0.75525013640793259, 0.7614015918126078, 0.73727277905768107, 0.7467567071073703, 0.73913437572899543]\n",
      "\n",
      "Ref object first\n",
      "R^2 test: [1.0, 0.89303619411481305, 0.88975114067286165, 0.88265207399658774, 0.8830756561047669, 0.89101922321636984]\n",
      "R^2 obj3: [1.0, 0.94108242859975366, 0.92583913275784646]\n",
      "R^2 obj9: [1.0, 0.76221985591876074, 0.77348571791959597, 0.76203528997214987, 0.77236405861425539, 0.77848528793688676, 0.78283332897666258, 0.76185737227221761, 0.73363954080859073]\n",
      "\n",
      "Ref object late\n",
      "R^2 test: [1.0, 0.84598088195049037, 0.87082077979165617, 0.87149996290532894, 0.85988718078485826, 0.87214239014994133]\n",
      "R^2 obj3: [1.0, 0.94405851766780546, 0.94182563042355549]\n",
      "R^2 obj9: [1.0, 0.72071042683961517, 0.7143508969852479, 0.70049941162018992, 0.72678033621735494, 0.71483258351162526, 0.70877193362216651, 0.72490534596505896, 0.68887130167983579]\n"
     ]
    }
   ],
   "source": [
    "print(\"Overall statistics\")\n",
    "filter_r2(encs_and_ys, {dset: np.array(range(test_points)) for dset in dset_names})\n",
    "print(\"\\nRef object first\")\n",
    "filter_r2(encs_and_ys, ref_first_idx)\n",
    "print(\"\\nRef object late\")\n",
    "filter_r2(encs_and_ys, ref_late_idx)"
   ]
  },
  {
   "cell_type": "markdown",
   "metadata": {},
   "source": [
    "## Enc correlation to other objects"
   ]
  },
  {
   "cell_type": "code",
   "execution_count": 20,
   "metadata": {},
   "outputs": [
    {
     "name": "stdout",
     "output_type": "stream",
     "text": [
      "2 -> 1 R^2 test: 0.015711453663938335\n",
      "2 -> 1 R^2 obj3: 0.05825636665072397\n",
      "2 -> 1 R^2 obj9: 0.010770944610821398\n"
     ]
    }
   ],
   "source": [
    "for dset in dset_names:\n",
    "    X = encs_and_ys[dset]['enc'][:,2,:]\n",
    "    y = encs_and_ys[dset]['y'][:,1]\n",
    "    model = LinearRegression()\n",
    "    model.fit(X, y)\n",
    "    print(\"2 -> 1 R^2 {}: {}\".format(dset, model.score(X, y) ))"
   ]
  },
  {
   "cell_type": "markdown",
   "metadata": {},
   "source": [
    "## Residual plots and analysis over all masses"
   ]
  },
  {
   "cell_type": "code",
   "execution_count": 23,
   "metadata": {},
   "outputs": [
    {
     "name": "stdout",
     "output_type": "stream",
     "text": [
      "Fit: full. Test: full: 0.7980360980888797\n",
      "Fit: test. Test: test: 0.8744585126454867\n",
      "Fit: test. Test: obj3: 0.8897295644722011\n",
      "Fit: test. Test: obj9: 0.677986487966177\n"
     ]
    }
   ],
   "source": [
    "full_encs = []\n",
    "full_ys = []\n",
    "for dset in dset_names:\n",
    "    full_encs += [encs_and_ys[dset]['enc'].reshape(-1, encs_and_ys[dset]['enc'].shape[2])]\n",
    "    full_ys += [encs_and_ys[dset]['y'].reshape(-1)]\n",
    "full_encs_comb = np.concatenate(full_encs, axis=0)\n",
    "full_ys_comb = np.concatenate(full_ys, axis=0)\n",
    "model = LinearRegression()\n",
    "model.fit(full_encs_comb, full_ys_comb)\n",
    "print(\"Fit: full. Test: full: {}\".format(model.score(full_encs_comb, full_ys_comb)) )\n",
    "model = LinearRegression()\n",
    "model.fit(encs_and_ys['test']['enc'].reshape(-1, encs_and_ys['test']['enc'].shape[2]), encs_and_ys['test']['y'].reshape(-1))\n",
    "print(\"Fit: test. Test: test: {}\".format(model.score(full_encs[0], full_ys[0])) )\n",
    "print(\"Fit: test. Test: obj3: {}\".format(model.score(full_encs[1], full_ys[1])) )\n",
    "print(\"Fit: test. Test: obj9: {}\".format(model.score(full_encs[2], full_ys[2])) )"
   ]
  },
  {
   "cell_type": "code",
   "execution_count": 22,
   "metadata": {},
   "outputs": [
    {
     "data": {
      "text/plain": [
       "[<matplotlib.lines.Line2D at 0x2b4c4be21080>]"
      ]
     },
     "execution_count": 22,
     "metadata": {},
     "output_type": "execute_result"
    },
    {
     "data": {
      "image/png": "[encoded data removed]",
      "text/plain": [
       "<matplotlib.figure.Figure at 0x2b4c457f04a8>"
      ]
     },
     "metadata": {},
     "output_type": "display_data"
    }
   ],
   "source": [
    "model = LinearRegression()\n",
    "model.fit(encs_and_ys['test']['enc'].reshape(-1, encs_and_ys['test']['enc'].shape[2]), encs_and_ys['test']['y'].reshape(-1))\n",
    "y_pred = model.predict(full_encs)\n",
    "res = full_ys - y_pred\n",
    "plt.plot(full_ys, res, '.')"
   ]
  },
  {
   "cell_type": "markdown",
   "metadata": {},
   "source": [
    "## R^2 based on distance to reference object"
   ]
  },
  {
   "cell_type": "code",
   "execution_count": 38,
   "metadata": {},
   "outputs": [],
   "source": [
    "def get_distances(col_sample):\n",
    "    adjacencies = defaultdict(set)\n",
    "    for a, b in col_sample:\n",
    "        adjacencies[a].add(b)\n",
    "        adjacencies[b].add(a)\n",
    "    # Just use DFS, we're lazy\n",
    "    n_obj = max([x[1] for x in col_sample]) + 1\n",
    "    def dfs_dist(target, cur, depth, visited):\n",
    "        if cur == target:\n",
    "            return depth\n",
    "        if cur in visited:\n",
    "            return 1000000\n",
    "        visited.add(cur)\n",
    "        dists = []\n",
    "        for neighbor in adjacencies[cur]:\n",
    "            dists += [dfs_dist(target, neighbor, depth+1, visited)]\n",
    "        return min(dists)\n",
    "    dists = []\n",
    "    for target in range(n_obj):\n",
    "        dists += [dfs_dist(target, 0, 0, set())]\n",
    "    return dists"
   ]
  },
  {
   "cell_type": "code",
   "execution_count": 44,
   "metadata": {
    "collapsed": true
   },
   "outputs": [],
   "source": [
    "encs_by_dist = [[] for i in range(9)]\n",
    "ys_by_dist = [[] for i in range(9)]\n",
    "for dset in dset_names:\n",
    "    for i, col_sample in enumerate(collisions[dset]):\n",
    "        distances = get_distances(col_sample)\n",
    "        for obj_num in range(len(distances)):\n",
    "            encs_by_dist[distances[obj_num]] += [encs_and_ys[dset]['enc'][i,obj_num,:]]\n",
    "            ys_by_dist[distances[obj_num]] += [encs_and_ys[dset]['y'][i,obj_num]]\n",
    "encs_by_dist = [np.stack(x, axis=0) for x in encs_by_dist]\n",
    "ys_by_dist = [np.stack(x, axis=0) for x in ys_by_dist]"
   ]
  },
  {
   "cell_type": "markdown",
   "metadata": {},
   "source": [
    "#### In sample R^2 based on distance"
   ]
  },
  {
   "cell_type": "code",
   "execution_count": 50,
   "metadata": {
    "scrolled": true
   },
   "outputs": [
    {
     "name": "stdout",
     "output_type": "stream",
     "text": [
      "Dist: 0 In sample R^2: 1.0\n",
      "Dist: 1 In sample R^2: 0.8602227008129674\n",
      "Dist: 2 In sample R^2: 0.7884613351563159\n",
      "Dist: 3 In sample R^2: 0.7374396297110382\n",
      "Dist: 4 In sample R^2: 0.6878252389139089\n",
      "Dist: 5 In sample R^2: 0.6687444015693227\n",
      "Dist: 6 In sample R^2: 0.6787887934701775\n",
      "Dist: 7 In sample R^2: 0.6863919692831132\n",
      "Dist: 8 In sample R^2: 0.780978567646734\n"
     ]
    }
   ],
   "source": [
    "for i in range(9):\n",
    "    model = LinearRegression()\n",
    "    model.fit(encs_by_dist[i], ys_by_dist[i])\n",
    "    print(\"Dist: {} In sample R^2: {}\".format(i, model.score(encs_by_dist[i], ys_by_dist[i])))"
   ]
  },
  {
   "cell_type": "markdown",
   "metadata": {},
   "source": [
    "#### R^2 trained on distance of 1"
   ]
  },
  {
   "cell_type": "code",
   "execution_count": 55,
   "metadata": {},
   "outputs": [
    {
     "name": "stdout",
     "output_type": "stream",
     "text": [
      "Dist: 0 OOS R^2: 0.0\n",
      "Dist: 1 OOS R^2: 0.8600226213962056\n",
      "Dist: 2 OOS R^2: 0.7855876068725834\n",
      "Dist: 3 OOS R^2: 0.7236279676932248\n",
      "Dist: 4 OOS R^2: 0.6603492449600376\n",
      "Dist: 5 OOS R^2: 0.6322167923898515\n",
      "Dist: 6 OOS R^2: 0.6174838281693718\n",
      "Dist: 7 OOS R^2: 0.6346759727769975\n",
      "Dist: 8 OOS R^2: 0.6358134682391264\n"
     ]
    }
   ],
   "source": [
    "model = LinearRegression()\n",
    "model.fit(np.concatenate(encs_by_dist[0:2], axis=0), np.concatenate(ys_by_dist[0:2], axis=0))\n",
    "for i in range(9):\n",
    "    print(\"Dist: {} OOS R^2: {}\".format(i, model.score(encs_by_dist[i], ys_by_dist[i])))"
   ]
  },
  {
   "cell_type": "code",
   "execution_count": 54,
   "metadata": {},
   "outputs": [
    {
     "name": "stdout",
     "output_type": "stream",
     "text": [
      "Dist: 0 OOS R^2: 0.0\n",
      "Dist: 1 OOS R^2: 0.8572582972795297\n",
      "Dist: 2 OOS R^2: 0.7882556893111907\n",
      "Dist: 3 OOS R^2: 0.7327744016192553\n",
      "Dist: 4 OOS R^2: 0.6752197033139539\n",
      "Dist: 5 OOS R^2: 0.6501477775065531\n",
      "Dist: 6 OOS R^2: 0.6426504832949043\n",
      "Dist: 7 OOS R^2: 0.6555506801290543\n",
      "Dist: 8 OOS R^2: 0.6552055443557447\n"
     ]
    }
   ],
   "source": [
    "model = LinearRegression()\n",
    "model.fit(full_encs_comb, full_ys_comb)\n",
    "for i in range(9):\n",
    "    print(\"Dist: {} OOS R^2: {}\".format(i, model.score(encs_by_dist[i], ys_by_dist[i])))"
   ]
  },
  {
   "cell_type": "code",
   "execution_count": 60,
   "metadata": {},
   "outputs": [
    {
     "name": "stdout",
     "output_type": "stream",
     "text": [
      "Dist: 0 Num Samples: 15000 (0.167)\n",
      "Dist: 1 Num Samples: 34333 (0.381)\n",
      "Dist: 2 Num Samples: 20834 (0.231)\n",
      "Dist: 3 Num Samples: 10450 (0.116)\n",
      "Dist: 4 Num Samples:  5488 (0.061)\n",
      "Dist: 5 Num Samples:  2552 (0.028)\n",
      "Dist: 6 Num Samples:   986 (0.011)\n",
      "Dist: 7 Num Samples:   303 (0.003)\n",
      "Dist: 8 Num Samples:    54 (0.001)\n"
     ]
    }
   ],
   "source": [
    "for i in range(9):\n",
    "    print(\"Dist: {} Num Samples: {:5} ({:.3f})\".format(i, encs_by_dist[i].shape[0], float(encs_by_dist[i].shape[0]) / sum(x.shape[0] for x in encs_by_dist)))"
   ]
  },
  {
   "cell_type": "code",
   "execution_count": 63,
   "metadata": {
    "collapsed": true
   },
   "outputs": [],
   "source": [
    "def f(dset):\n",
    "    encs_by_dist = [[] for i in range(num_obj[dset])]\n",
    "    ys_by_dist = [[] for i in range(num_obj[dset])]\n",
    "    for i, col_sample in enumerate(collisions[dset]):\n",
    "        distances = get_distances(col_sample)\n",
    "        for obj_num in range(len(distances)):\n",
    "            encs_by_dist[distances[obj_num]] += [encs_and_ys[dset]['enc'][i,obj_num,:]]\n",
    "            ys_by_dist[distances[obj_num]] += [encs_and_ys[dset]['y'][i,obj_num]]\n",
    "    encs_by_dist = [np.stack(x, axis=0) for x in encs_by_dist]\n",
    "    ys_by_dist = [np.stack(x, axis=0) for x in ys_by_dist]\n",
    "    model = LinearRegression()\n",
    "    model.fit(full_encs_comb, full_ys_comb)\n",
    "    for i in range(num_obj[dset]):\n",
    "        print(\"Dist: {} OOS R^2: {}\".format(i, model.score(encs_by_dist[i], ys_by_dist[i])))"
   ]
  },
  {
   "cell_type": "code",
   "execution_count": 65,
   "metadata": {},
   "outputs": [
    {
     "name": "stdout",
     "output_type": "stream",
     "text": [
      "test\n",
      "Dist: 0 OOS R^2: 0.0\n",
      "Dist: 1 OOS R^2: 0.9088300074967527\n",
      "Dist: 2 OOS R^2: 0.857272392672901\n",
      "Dist: 3 OOS R^2: 0.792325102195347\n",
      "Dist: 4 OOS R^2: 0.7179863671841482\n",
      "Dist: 5 OOS R^2: 0.7080586822910505\n",
      "\n",
      "obj3\n",
      "Dist: 0 OOS R^2: 0.0\n",
      "Dist: 1 OOS R^2: 0.9175315033051679\n",
      "Dist: 2 OOS R^2: 0.8418598110306521\n",
      "\n",
      "obj9\n",
      "Dist: 0 OOS R^2: 0.0\n",
      "Dist: 1 OOS R^2: 0.7971531353795843\n",
      "Dist: 2 OOS R^2: 0.7141606043731827\n",
      "Dist: 3 OOS R^2: 0.6944681007380213\n",
      "Dist: 4 OOS R^2: 0.6555184816078597\n",
      "Dist: 5 OOS R^2: 0.6382899824933859\n",
      "Dist: 6 OOS R^2: 0.6414646567335529\n",
      "Dist: 7 OOS R^2: 0.6547360916664108\n",
      "Dist: 8 OOS R^2: 0.6544881748828255\n"
     ]
    }
   ],
   "source": [
    "print('test')\n",
    "f('test')\n",
    "\n",
    "print('\\nobj3')\n",
    "f('obj3')\n",
    "\n",
    "print('\\nobj9')\n",
    "f('obj9')"
   ]
  }
 ],
 "metadata": {
  "kernelspec": {
   "display_name": "Python 3",
   "language": "python",
   "name": "python3"
  },
  "language_info": {
   "codemirror_mode": {
    "name": "ipython",
    "version": 3
   },
   "file_extension": ".py",
   "mimetype": "text/x-python",
   "name": "python",
   "nbconvert_exporter": "python",
   "pygments_lexer": "ipython3",
   "version": "3.5.4"
  }
 },
 "nbformat": 4,
 "nbformat_minor": 2
}
